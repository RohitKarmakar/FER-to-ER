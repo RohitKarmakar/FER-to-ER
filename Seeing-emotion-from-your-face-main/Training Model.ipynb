{
 "cells": [
  {
   "cell_type": "code",
   "execution_count": 22,
   "id": "2bf016d4",
   "metadata": {},
   "outputs": [],
   "source": [
    "import numpy as np\n",
    "import cv2\n",
    "import keras\n",
    "from keras.models import Sequential\n",
    "from keras.layers import Dense, Dropout, Flatten, Conv2D\n",
    "#from keras.optimizers import Adam\n",
    "from keras.layers import MaxPooling2D\n",
    "from keras.preprocessing.image import ImageDataGenerator"
   ]
  },
  {
   "cell_type": "code",
   "execution_count": 18,
   "id": "13b38713",
   "metadata": {},
   "outputs": [
    {
     "name": "stdout",
     "output_type": "stream",
     "text": [
      "Found 28709 images belonging to 7 classes.\n",
      "Found 7178 images belonging to 7 classes.\n"
     ]
    }
   ],
   "source": [
    "train_dir= 'train'\n",
    "val_dir='test'\n",
    "train_datagen = ImageDataGenerator(rescale=1./255)\n",
    "val_datagen = ImageDataGenerator(rescale=1./255)\n",
    "\n",
    "\n",
    "\n",
    "train_generator = train_datagen.flow_from_directory(\n",
    "        train_dir,\n",
    "        target_size=(48,48),\n",
    "        batch_size=64,\n",
    "       class_mode='categorical',\n",
    "       color_mode='grayscale' )\n",
    "\n",
    "\n",
    "validation_generator = val_datagen.flow_from_directory(\n",
    "        val_dir,\n",
    "        target_size=(48,48),\n",
    "        batch_size=64,\n",
    "        class_mode='categorical',\n",
    "        color_mode='grayscale')\n",
    "\n"
   ]
  },
  {
   "cell_type": "code",
   "execution_count": 19,
   "id": "b8d037e6",
   "metadata": {},
   "outputs": [],
   "source": [
    "emotion_model = Sequential()\n",
    "\n",
    "emotion_model.add(Conv2D(32, kernel_size=(3, 3), activation='relu', input_shape=(48,48,1)))\n",
    "emotion_model.add(Conv2D(64, kernel_size=(3, 3), activation='relu'))\n",
    "emotion_model.add(MaxPooling2D(pool_size=(2, 2)))\n",
    "emotion_model.add(Dropout(0.25))\n",
    "\n",
    "emotion_model.add(Conv2D(128, kernel_size=(3, 3), activation='relu'))\n",
    "emotion_model.add(MaxPooling2D(pool_size=(2, 2)))\n",
    "emotion_model.add(Conv2D(128, kernel_size=(3, 3), activation='relu'))\n",
    "emotion_model.add(MaxPooling2D(pool_size=(2, 2)))\n",
    "emotion_model.add(Dropout(0.25))\n",
    "\n",
    "emotion_model.add(Flatten())\n",
    "emotion_model.add(Dense(1024, activation='relu'))\n",
    "emotion_model.add(Dropout(0.5))\n",
    "emotion_model.add(Dense(7, activation='softmax'))"
   ]
  },
  {
   "cell_type": "code",
   "execution_count": null,
   "id": "7e0a81d6",
   "metadata": {},
   "outputs": [
    {
     "name": "stderr",
     "output_type": "stream",
     "text": [
      "c:\\users\\user\\appdata\\local\\programs\\python\\python37\\lib\\site-packages\\keras\\engine\\training.py:1972: UserWarning: `Model.fit_generator` is deprecated and will be removed in a future version. Please use `Model.fit`, which supports generators.\n",
      "  warnings.warn('`Model.fit_generator` is deprecated and '\n"
     ]
    },
    {
     "name": "stdout",
     "output_type": "stream",
     "text": [
      "Epoch 1/50\n",
      "448/448 [==============================] - 210s 465ms/step - loss: 1.6967 - accuracy: 0.3149 - val_loss: 1.4826 - val_accuracy: 0.4234\n",
      "Epoch 2/50\n",
      "448/448 [==============================] - 189s 421ms/step - loss: 1.4365 - accuracy: 0.4447 - val_loss: 1.3183 - val_accuracy: 0.4986\n",
      "Epoch 3/50\n",
      "448/448 [==============================] - 191s 426ms/step - loss: 1.2964 - accuracy: 0.5038 - val_loss: 1.2308 - val_accuracy: 0.5279\n",
      "Epoch 4/50\n",
      "448/448 [==============================] - 184s 412ms/step - loss: 1.2189 - accuracy: 0.5392 - val_loss: 1.1763 - val_accuracy: 0.5491\n",
      "Epoch 5/50\n",
      "448/448 [==============================] - 166s 371ms/step - loss: 1.1550 - accuracy: 0.5623 - val_loss: 1.1398 - val_accuracy: 0.5643\n",
      "Epoch 6/50\n",
      "448/448 [==============================] - 166s 372ms/step - loss: 1.1119 - accuracy: 0.5767 - val_loss: 1.1134 - val_accuracy: 0.5797\n",
      "Epoch 7/50\n",
      "448/448 [==============================] - 165s 369ms/step - loss: 1.0690 - accuracy: 0.5933 - val_loss: 1.0987 - val_accuracy: 0.5859\n",
      "Epoch 8/50\n",
      "448/448 [==============================] - 164s 365ms/step - loss: 1.0260 - accuracy: 0.6088 - val_loss: 1.0815 - val_accuracy: 0.5901\n",
      "Epoch 9/50\n",
      "448/448 [==============================] - 164s 366ms/step - loss: 0.9858 - accuracy: 0.6271 - val_loss: 1.0728 - val_accuracy: 0.5984\n",
      "Epoch 10/50\n",
      "448/448 [==============================] - 174s 389ms/step - loss: 0.9547 - accuracy: 0.6438 - val_loss: 1.0566 - val_accuracy: 0.6025\n",
      "Epoch 11/50\n",
      "448/448 [==============================] - 181s 404ms/step - loss: 0.9169 - accuracy: 0.6573 - val_loss: 1.0543 - val_accuracy: 0.6073\n",
      "Epoch 12/50\n",
      "359/448 [=======================>......] - ETA: 39s - loss: 0.8752 - accuracy: 0.6712"
     ]
    }
   ],
   "source": [
    "emotion_model.compile(loss='categorical_crossentropy', optimizer='adam',metrics=['accuracy'])\n",
    "\n",
    "emotion_model_info = emotion_model.fit_generator(\n",
    "        train_generator,\n",
    "        steps_per_epoch=28709 // 64,\n",
    "        epochs=50,\n",
    "        validation_data=validation_generator,\n",
    "        validation_steps=7178 // 64)"
   ]
  },
  {
   "cell_type": "code",
   "execution_count": null,
   "id": "6e713c7e",
   "metadata": {},
   "outputs": [],
   "source": [
    "emotion_model.save_weights('model.h5')"
   ]
  },
  {
   "cell_type": "code",
   "execution_count": null,
   "id": "6a84338c",
   "metadata": {},
   "outputs": [],
   "source": []
  },
  {
   "cell_type": "code",
   "execution_count": null,
   "id": "f96fc20e",
   "metadata": {},
   "outputs": [],
   "source": []
  },
  {
   "cell_type": "code",
   "execution_count": null,
   "id": "542d6639",
   "metadata": {},
   "outputs": [],
   "source": []
  },
  {
   "cell_type": "code",
   "execution_count": null,
   "id": "516d37dc",
   "metadata": {},
   "outputs": [],
   "source": []
  }
 ],
 "metadata": {
  "kernelspec": {
   "display_name": "Python 3",
   "language": "python",
   "name": "python3"
  },
  "language_info": {
   "codemirror_mode": {
    "name": "ipython",
    "version": 3
   },
   "file_extension": ".py",
   "mimetype": "text/x-python",
   "name": "python",
   "nbconvert_exporter": "python",
   "pygments_lexer": "ipython3",
   "version": "3.7.9"
  }
 },
 "nbformat": 4,
 "nbformat_minor": 5
}
